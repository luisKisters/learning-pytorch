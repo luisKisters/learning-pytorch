{
  "nbformat": 4,
  "nbformat_minor": 0,
  "metadata": {
    "colab": {
      "provenance": []
    },
    "kernelspec": {
      "name": "python3",
      "display_name": "Python 3"
    },
    "language_info": {
      "name": "python"
    }
  },
  "cells": [
    {
      "cell_type": "markdown",
      "source": [
        "# 1. Setup (Imports & Setting up device)"
      ],
      "metadata": {
        "id": "ATD9Wx84RBKW"
      }
    },
    {
      "cell_type": "markdown",
      "source": [
        "## 1.1 Imports"
      ],
      "metadata": {
        "id": "FWNAD80ubrMo"
      }
    },
    {
      "cell_type": "code",
      "execution_count": 9,
      "metadata": {
        "id": "HskV9mGeQQEZ"
      },
      "outputs": [],
      "source": [
        "# Import necceserry libaries\n",
        "import torch\n",
        "from torch import nn\n",
        "import matplotlib.pyplot as plt \n",
        "import numpy as np"
      ]
    },
    {
      "cell_type": "markdown",
      "source": [
        "## 1.2 Setting devie agnostic code"
      ],
      "metadata": {
        "id": "4Gjmd7VAbpLV"
      }
    },
    {
      "cell_type": "code",
      "source": [
        "device = \"cuda\" if torch.cuda.is_available() else \"cpu\"\n",
        "print(f\"Using device {device}\")"
      ],
      "metadata": {
        "colab": {
          "base_uri": "https://localhost:8080/"
        },
        "id": "WACBGfYPb2bd",
        "outputId": "3fb4cdec-6aa3-492a-af95-c8c7eabb501e"
      },
      "execution_count": 28,
      "outputs": [
        {
          "output_type": "stream",
          "name": "stdout",
          "text": [
            "Using device cpu\n"
          ]
        }
      ]
    },
    {
      "cell_type": "markdown",
      "source": [
        "# 2. Create known parameters"
      ],
      "metadata": {
        "id": "RcyGh8ZTRHYI"
      }
    },
    {
      "cell_type": "code",
      "source": [
        "# Create known parameters\n",
        "weight = 0.7\n",
        "bias = 0.3\n",
        "\n",
        "# Create \n",
        "start = 0\n",
        "end = 1\n",
        "step = 0.02\n",
        "X = torch.arange(start, end, step). unsqueeze(dim=1)\n",
        "y = weight * X + bias"
      ],
      "metadata": {
        "id": "zGSy5kGsRSco"
      },
      "execution_count": 3,
      "outputs": []
    },
    {
      "cell_type": "markdown",
      "source": [
        "# 3. Split into training & testing data"
      ],
      "metadata": {
        "id": "MK8TX2TKRW7P"
      }
    },
    {
      "cell_type": "code",
      "source": [
        "train_split = int(0.8 * len(X)) # Set train split to 80/20 and based on that, set how much training and testing data is  "
      ],
      "metadata": {
        "id": "lQeP9CZjRgV-"
      },
      "execution_count": 4,
      "outputs": []
    },
    {
      "cell_type": "code",
      "source": [
        "X_train, y_train = X[:train_split], y[:train_split] # Define training data\n",
        "X_test, y_test = X[train_split:], y[train_split:] # Define testing data"
      ],
      "metadata": {
        "id": "dSxVCnrBRjVf"
      },
      "execution_count": 5,
      "outputs": []
    },
    {
      "cell_type": "markdown",
      "source": [
        "# 4. Make a function for plotting the training data, test data & predictions "
      ],
      "metadata": {
        "id": "s5VNeTq7Sr73"
      }
    },
    {
      "cell_type": "code",
      "source": [
        "def plot_predictions(train_data=X_train, \n",
        "                     train_labels=y_train, \n",
        "                     test_data=X_test, \n",
        "                     test_labels=y_test, \n",
        "                     predictions=None):\n",
        "  \"\"\"\n",
        "  Plots training data, test data and compares predictions.\n",
        "  \"\"\"\n",
        "  plt.figure(figsize=(10, 7))\n",
        "\n",
        "  # Plot training data in blue\n",
        "  plt.scatter(train_data, train_labels, c=\"b\", s=4, label=\"Training data\")\n",
        "  \n",
        "  # Plot test data in green\n",
        "  plt.scatter(test_data, test_labels, c=\"g\", s=4, label=\"Testing data\")\n",
        "\n",
        "  if predictions is not None:\n",
        "    # Plot the predictions in red (predictions were made on the test data)\n",
        "    plt.scatter(test_data, predictions, c=\"r\", s=4, label=\"Predictions\")\n",
        "\n",
        "  # Show the legend\n",
        "  plt.legend(prop={\"size\": 14});"
      ],
      "metadata": {
        "id": "4ccz2ZJMS7Nr"
      },
      "execution_count": 6,
      "outputs": []
    },
    {
      "cell_type": "markdown",
      "source": [
        "# 5. Create the Linear Regression Model "
      ],
      "metadata": {
        "id": "VsOa1d55S_xt"
      }
    },
    {
      "cell_type": "code",
      "source": [
        "# Create a Linear Regression model class\n",
        "class LinearRegressionModel(nn.Module): # <- almost everything in PyTorch is a nn.Module (think of this as neural network lego blocks)\n",
        "    def __init__(self):\n",
        "        super().__init__() \n",
        "        self.weights = nn.Parameter(torch.randn(1, # <- start with random weights (this will get adjusted as the model learns)\n",
        "                                                dtype=torch.float), # <- PyTorch loves float32 by default\n",
        "                                                requires_grad=True) # <- can we update this value with gradient descent?)\n",
        "\n",
        "        self.bias = nn.Parameter(torch.randn(1, # <- start with random bias (this will get adjusted as the model learns)\n",
        "                                            dtype=torch.float), # <- PyTorch loves float32 by default\n",
        "                                            requires_grad=True) # <- can we update this value with gradient descent?))\n",
        "\n",
        "    # Forward defines the computation in the model\n",
        "    def forward(self, x: torch.Tensor) -> torch.Tensor: # <- \"x\" is the input data (e.g. training/testing features)\n",
        "        return self.weights * x + self.bias # <- this is the linear regression formula (y = m*x + b)"
      ],
      "metadata": {
        "id": "Eom0vDJ3TMFm"
      },
      "execution_count": 11,
      "outputs": []
    },
    {
      "cell_type": "markdown",
      "source": [
        "## 5.1 Set manual seed"
      ],
      "metadata": {
        "id": "17rKF7iSTgmW"
      }
    },
    {
      "cell_type": "code",
      "source": [
        "torch.manual_seed(42)"
      ],
      "metadata": {
        "colab": {
          "base_uri": "https://localhost:8080/"
        },
        "id": "YVAQNbDpTkbC",
        "outputId": "0eaa6bb6-e313-420f-f6c3-1bad3b175b69"
      },
      "execution_count": 12,
      "outputs": [
        {
          "output_type": "execute_result",
          "data": {
            "text/plain": [
              "<torch._C.Generator at 0x7fd5fc402330>"
            ]
          },
          "metadata": {},
          "execution_count": 12
        }
      ]
    },
    {
      "cell_type": "markdown",
      "source": [
        "## 5.2 Create instance of the model"
      ],
      "metadata": {
        "id": "P8d4F6acTqc0"
      }
    },
    {
      "cell_type": "code",
      "source": [
        "model_0 = LinearRegressionModel()"
      ],
      "metadata": {
        "id": "SxjZIbCDT1Ih"
      },
      "execution_count": 13,
      "outputs": []
    },
    {
      "cell_type": "markdown",
      "source": [
        "# 6. Making Predictions with torch.inference_mode()"
      ],
      "metadata": {
        "id": "YG5P757QT6JD"
      }
    },
    {
      "cell_type": "code",
      "source": [
        "with torch.inference_mode():\n",
        "    y_preds = model_0(X_test)\n",
        "\n",
        "y_preds"
      ],
      "metadata": {
        "colab": {
          "base_uri": "https://localhost:8080/"
        },
        "id": "c24sIyAtUCAr",
        "outputId": "59ee7cc5-922a-4414-97ba-10dd39ba7d58"
      },
      "execution_count": 14,
      "outputs": [
        {
          "output_type": "execute_result",
          "data": {
            "text/plain": [
              "tensor([[0.3982],\n",
              "        [0.4049],\n",
              "        [0.4116],\n",
              "        [0.4184],\n",
              "        [0.4251],\n",
              "        [0.4318],\n",
              "        [0.4386],\n",
              "        [0.4453],\n",
              "        [0.4520],\n",
              "        [0.4588]])"
            ]
          },
          "metadata": {},
          "execution_count": 14
        }
      ]
    },
    {
      "cell_type": "markdown",
      "source": [
        "# 6.1 Plot the predictions"
      ],
      "metadata": {
        "id": "GGNBVu-IUF5R"
      }
    },
    {
      "cell_type": "code",
      "source": [
        "plot_predictions(predictions=y_preds)"
      ],
      "metadata": {
        "colab": {
          "base_uri": "https://localhost:8080/",
          "height": 54
        },
        "id": "M98mQmjZUPX0",
        "outputId": "eb2915fd-e1c2-410e-8560-897c94d83d2b"
      },
      "execution_count": 15,
      "outputs": [
        {
          "output_type": "display_data",
          "data": {
            "text/plain": [
              "<Figure size 720x504 with 1 Axes>"
            ],
            "image/png": "[encoded data removed]"
          },
          "metadata": {
            "needs_background": "light"
          }
        }
      ]
    },
    {
      "cell_type": "markdown",
      "source": [
        "# 7. Setup loss function & optimizer"
      ],
      "metadata": {
        "id": "3VUiZ6JjUScs"
      }
    },
    {
      "cell_type": "code",
      "source": [
        "# Setup a loss function\n",
        "loss_fn=nn.L1Loss()\n",
        "\n",
        "# Setup an optimizer \n",
        "optimizer = torch.optim.SGD(\n",
        "                            params=model_0.parameters(), \n",
        "                            lr=0.001 # the smaller the lr, the smaller the change in the parameters, the larger the lr, the bigger the change in the parameters\n",
        "                            )"
      ],
      "metadata": {
        "id": "U_0HkS48Ubvi"
      },
      "execution_count": 16,
      "outputs": []
    },
    {
      "cell_type": "markdown",
      "source": [
        "# 8. Training & testing the model (training loop + testing loop) "
      ],
      "metadata": {
        "id": "5VHs3wdTUd4K"
      }
    },
    {
      "cell_type": "code",
      "source": [
        "# An epoch is one loop through data... (this is hyperparameter because we set it ourselves)\n",
        "epochs = 4000\n",
        "\n",
        "# Track different values\n",
        "epoch_count = [] \n",
        "loss_values = []\n",
        "test_loss_values = []\n",
        "\n",
        "### Training \n",
        "# 0. Loop through the data\n",
        "for epoch in range(epochs):\n",
        "\n",
        "  model_0.train() # train mode in PyTorch sets all parameters that require gradients \n",
        "\n",
        "  # 1. Forward pass\n",
        "  y_pred = model_0(X_train)\n",
        "\n",
        "  # 2. Calculate the loss\n",
        "  loss = loss_fn(y_pred, y_train)\n",
        "\n",
        "  # 3. Optimizer zero grad\n",
        "  optimizer.zero_grad()\n",
        "\n",
        "  # 4. Perform backpropagation on the loss with respect to the parameters of the model\n",
        "  loss.backward()\n",
        "\n",
        "  # 5. Step the optimizer \n",
        "  optimizer.step() # by default how the optimizer changes will accumulate through the loop so... we have to zero them above step 3 for the iteration of the loop\n",
        "\n",
        "  ### Testing\n",
        "  model_0.eval() # turn off gradient tracking\n",
        "  with torch.inference_mode(): # turns off gradient tracking & a couple more things behind the scenes - https://twitter.com/PyTorch/status/1437838231505096708?s=20&t=aftDZicoiUGiklEP179x7A\n",
        "    # with torch.no_grad(): # you may also see torch.no_grad() in older PyTorch code\n",
        "    # 1. Do the forward pass \n",
        "    test_preds = model_0(X_test)\n",
        "\n",
        "    # 2. Calculate the loss\n",
        "    test_loss = loss_fn(test_preds, y_test)\n",
        "\n",
        "    # Print out what's happenin'    \n",
        "    if epoch % (epochs//10) == 0:\n",
        "      print(f\"Epoch: {epoch} | Loss: {loss} | Test loss: {test_loss}\")    \n",
        "      epoch_count.append(epoch)\n",
        "      loss_values.append(loss)\n",
        "      test_loss_values.append(test_loss)\n",
        "\n",
        "print(f\"Epoch: {epochs} | Loss: {loss} | Test loss: {test_loss}\") "
      ],
      "metadata": {
        "colab": {
          "base_uri": "https://localhost:8080/"
        },
        "id": "bXUdpuwlVMxk",
        "outputId": "050ae706-f771-43d8-9cc9-3ebd25652468"
      },
      "execution_count": 17,
      "outputs": [
        {
          "output_type": "stream",
          "name": "stdout",
          "text": [
            "Epoch: 0 | Loss: 0.31288138031959534 | Test loss: 0.4931890368461609\n",
            "Epoch: 400 | Loss: 0.04549176245927811 | Test loss: 0.11657620966434479\n",
            "Epoch: 800 | Loss: 0.03122851625084877 | Test loss: 0.07297395914793015\n",
            "Epoch: 1200 | Loss: 0.017490629106760025 | Test loss: 0.04084048420190811\n",
            "Epoch: 1600 | Loss: 0.003752306802198291 | Test loss: 0.008672690019011497\n",
            "Epoch: 2000 | Loss: 0.0004444979131221771 | Test loss: 0.0005780101055279374\n",
            "Epoch: 2400 | Loss: 0.0004444979131221771 | Test loss: 0.0005780101055279374\n",
            "Epoch: 2800 | Loss: 0.0004444979131221771 | Test loss: 0.0005780101055279374\n",
            "Epoch: 3200 | Loss: 0.0004444979131221771 | Test loss: 0.0005780101055279374\n",
            "Epoch: 3600 | Loss: 0.0004444979131221771 | Test loss: 0.0005780101055279374\n",
            "Epoch: 4000 | Loss: 0.0007075972971506417 | Test loss: 0.0007690846687182784\n"
          ]
        }
      ]
    },
    {
      "cell_type": "markdown",
      "source": [
        "# 9. Plotting the Predictions from the trained model"
      ],
      "metadata": {
        "id": "eBt8hdaMVY5M"
      }
    },
    {
      "cell_type": "code",
      "source": [
        "with torch.inference_mode():\n",
        "    y_preds = model_0(X_test)\n",
        "    plot_predictions(predictions=y_preds)"
      ],
      "metadata": {
        "colab": {
          "base_uri": "https://localhost:8080/",
          "height": 54
        },
        "id": "DJWfpG3PVeIH",
        "outputId": "f9d9ee4d-092a-4e43-bd5b-e8ea764cc992"
      },
      "execution_count": 18,
      "outputs": [
        {
          "output_type": "display_data",
          "data": {
            "text/plain": [
              "<Figure size 720x504 with 1 Axes>"
            ],
            "image/png": "[encoded data removed]"
          },
          "metadata": {
            "needs_background": "light"
          }
        }
      ]
    },
    {
      "cell_type": "markdown",
      "source": [
        "# 10. Create the loss curves\n"
      ],
      "metadata": {
        "id": "2jd-rCO-WXjG"
      }
    },
    {
      "cell_type": "markdown",
      "source": [
        "## 10.1 Convert `loss_vaues`, `epoch_count` & `test_loss`\n"
      ],
      "metadata": {
        "id": "6vKIR3e8VsQJ"
      }
    },
    {
      "cell_type": "code",
      "source": [
        "# Plot the loss curves\n",
        "plt.plot(epoch_count, np.array(torch.tensor(loss_values).numpy()), label=\"Train loss\")\n",
        "plt.plot(epoch_count, test_loss_values, label=\"Test loss\")\n",
        "plt.title(\"Training and test loss curves\")\n",
        "plt.ylabel(\"Loss\")\n",
        "plt.xlabel(\"Epochs\")\n",
        "plt.legend();"
      ],
      "metadata": {
        "colab": {
          "base_uri": "https://localhost:8080/",
          "height": 54
        },
        "id": "MRQ3dhiJWNwU",
        "outputId": "58a48ccd-f369-48ec-c6e2-25eff77e6fc5"
      },
      "execution_count": 19,
      "outputs": [
        {
          "output_type": "display_data",
          "data": {
            "text/plain": [
              "<Figure size 432x288 with 1 Axes>"
            ],
            "image/png": "[encoded data removed]"
          },
          "metadata": {
            "needs_background": "light"
          }
        }
      ]
    },
    {
      "cell_type": "markdown",
      "source": [
        "## 10.2 Creating the loss curves\n",
        "\n"
      ],
      "metadata": {
        "id": "YUiiggOCWmzb"
      }
    },
    {
      "cell_type": "code",
      "source": [
        "# Plot the loss curves\n",
        "plt.plot(epoch_count, np.array(torch.tensor(loss_values).numpy()), label=\"Train loss\")\n",
        "plt.plot(epoch_count, test_loss_values, label=\"Test loss\")\n",
        "plt.title(\"Training and test loss curves\")\n",
        "plt.ylabel(\"Loss\")\n",
        "plt.xlabel(\"Epochs\")\n",
        "plt.legend();"
      ],
      "metadata": {
        "colab": {
          "base_uri": "https://localhost:8080/",
          "height": 54
        },
        "id": "DYSfXK6XW4du",
        "outputId": "c798be92-2b8c-4af6-ab21-9bf13149f004"
      },
      "execution_count": 20,
      "outputs": [
        {
          "output_type": "display_data",
          "data": {
            "text/plain": [
              "<Figure size 432x288 with 1 Axes>"
            ],
            "image/png": "[encoded data removed]"
          },
          "metadata": {
            "needs_background": "light"
          }
        }
      ]
    },
    {
      "cell_type": "markdown",
      "source": [
        "# 11. Save the model"
      ],
      "metadata": {
        "id": "-FCxZYdtXDz9"
      }
    },
    {
      "cell_type": "code",
      "source": [
        "# Saving our PyTorch model\n",
        "from pathlib import Path\n",
        "\n",
        "# 1. Create models directory\n",
        "MODEL_PATH = Path(\"models\")\n",
        "MODEL_PATH.mkdir(parents=True, exist_ok=True)\n",
        "\n",
        "# 2. Create mode save path\n",
        "MODEL_NAME = \"LinearRegression_model3.pth\" #  @param\n",
        "MODEL_SAVE_PATH = MODEL_PATH / MODEL_NAME\n",
        "\n",
        "# 3. Save the model state dict\n",
        "print(f\"Saving model to: {MODEL_SAVE_PATH}\")\n",
        "torch.save(obj=model_0.state_dict(),\n",
        "          f=MODEL_SAVE_PATH)"
      ],
      "metadata": {
        "colab": {
          "base_uri": "https://localhost:8080/"
        },
        "id": "x-WtT3BHXF3U",
        "outputId": "70925e8a-8beb-421d-9b84-ca6381405ba5"
      },
      "execution_count": 21,
      "outputs": [
        {
          "output_type": "stream",
          "name": "stdout",
          "text": [
            "Saving model to: models/LinearRegression_model3.pth\n"
          ]
        }
      ]
    },
    {
      "cell_type": "markdown",
      "source": [
        "# 12. Load the model, test the loaded model & compare it to original model"
      ],
      "metadata": {
        "id": "8GRXT8DLXJ-Q"
      }
    },
    {
      "cell_type": "code",
      "source": [
        "loaded_model = LinearRegressionModel() # Set model type\n",
        "loaded_model.load_state_dict(torch.load(f=MODEL_SAVE_PATH)) # Load the model\n",
        "loaded_model.eval() # Set model to evaluation mode\n",
        "loaded_model_y_preds = loaded_model(X_test) # Use the model on the testing data\n"
      ],
      "metadata": {
        "id": "iNhirgFwXMw6"
      },
      "execution_count": 22,
      "outputs": []
    },
    {
      "cell_type": "markdown",
      "source": [
        "## 12.1 Test the loaded model"
      ],
      "metadata": {
        "id": "uCGAGp_BXeTq"
      }
    },
    {
      "cell_type": "code",
      "source": [
        "with torch.inference_mode(): \n",
        "    loaded_model_y_preds = loaded_model(X_test)\n",
        "    plot_predictions(predictions=loaded_model_y_preds)\n",
        "# 1. Do the forward pass\n",
        "test_preds = model_0(X_test)\n",
        "\n",
        "# 2. Calculate the loss\n",
        "test_loss = loss_fn(test_preds, y_test)\n",
        "print(test_loss)"
      ],
      "metadata": {
        "colab": {
          "base_uri": "https://localhost:8080/",
          "height": 72
        },
        "id": "hyEE8nSiXmpC",
        "outputId": "b5a31ff9-2330-488f-a64f-0a949b264eab"
      },
      "execution_count": 23,
      "outputs": [
        {
          "output_type": "stream",
          "name": "stdout",
          "text": [
            "tensor(0.0008, grad_fn=<MeanBackward0>)\n"
          ]
        },
        {
          "output_type": "display_data",
          "data": {
            "text/plain": [
              "<Figure size 720x504 with 1 Axes>"
            ],
            "image/png": "[encoded data removed]"
          },
          "metadata": {
            "needs_background": "light"
          }
        }
      ]
    },
    {
      "cell_type": "markdown",
      "source": [
        "## 12.2 Compare loaded model preds with orignal preds"
      ],
      "metadata": {
        "id": "iySeUzo7X9G4"
      }
    },
    {
      "cell_type": "code",
      "source": [
        "loaded_model_y_preds == y_preds"
      ],
      "metadata": {
        "colab": {
          "base_uri": "https://localhost:8080/"
        },
        "id": "uglDSgH5YDFA",
        "outputId": "a8c8b17e-ac3f-4f30-b46e-df9a24725b33"
      },
      "execution_count": 24,
      "outputs": [
        {
          "output_type": "execute_result",
          "data": {
            "text/plain": [
              "tensor([[True],\n",
              "        [True],\n",
              "        [True],\n",
              "        [True],\n",
              "        [True],\n",
              "        [True],\n",
              "        [True],\n",
              "        [True],\n",
              "        [True],\n",
              "        [True]])"
            ]
          },
          "metadata": {},
          "execution_count": 24
        }
      ]
    },
    {
      "cell_type": "markdown",
      "source": [
        "# 13. Make predictions with the loaded model & plot the predictions"
      ],
      "metadata": {
        "id": "WgM-eoKKYRNp"
      }
    },
    {
      "cell_type": "markdown",
      "source": [
        "## 13.1 Make some model predictions"
      ],
      "metadata": {
        "id": "AA7LYFN3Ye5X"
      }
    },
    {
      "cell_type": "code",
      "source": [
        "model_0.eval()\n",
        "with torch.inference_mode():\n",
        "  loaded_model_y_preds = model_0(X_test)\n",
        "\n",
        "loaded_model_y_preds"
      ],
      "metadata": {
        "colab": {
          "base_uri": "https://localhost:8080/"
        },
        "id": "924GL2sHYhSK",
        "outputId": "8435641d-c4f6-4541-f4a7-e0c873b46fe4"
      },
      "execution_count": 25,
      "outputs": [
        {
          "output_type": "execute_result",
          "data": {
            "text/plain": [
              "tensor([[0.8593],\n",
              "        [0.8733],\n",
              "        [0.8873],\n",
              "        [0.9013],\n",
              "        [0.9152],\n",
              "        [0.9292],\n",
              "        [0.9432],\n",
              "        [0.9572],\n",
              "        [0.9712],\n",
              "        [0.9852]])"
            ]
          },
          "metadata": {},
          "execution_count": 25
        }
      ]
    },
    {
      "cell_type": "markdown",
      "source": [
        "## 13.2 Print the model predictions"
      ],
      "metadata": {
        "id": "EpdgtL5bYjkS"
      }
    },
    {
      "cell_type": "code",
      "source": [
        "with torch.inference_mode():\n",
        "  plot_predictions(predictions=loaded_model_y_preds)"
      ],
      "metadata": {
        "id": "WcrTrmkuZevZ",
        "colab": {
          "base_uri": "https://localhost:8080/",
          "height": 428
        },
        "outputId": "937a6b20-6845-46d6-9581-9b990ab0242d"
      },
      "execution_count": 26,
      "outputs": [
        {
          "output_type": "display_data",
          "data": {
            "text/plain": [
              "<Figure size 720x504 with 1 Axes>"
            ],
            "image/png": "[encoded data removed]"
          },
          "metadata": {
            "needs_background": "light"
          }
        }
      ]
    }
  ]
}