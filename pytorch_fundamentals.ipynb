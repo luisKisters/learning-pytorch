{
  "nbformat": 4,
  "nbformat_minor": 0,
  "metadata": {
    "colab": {
      "provenance": []
    },
    "kernelspec": {
      "name": "python3",
      "display_name": "Python 3"
    },
    "language_info": {
      "name": "python"
    },
    "gpuClass": "standard"
  },
  "cells": [
    {
      "cell_type": "code",
      "execution_count": null,
      "metadata": {
        "id": "IjDQluJk7dL3"
      },
      "outputs": [],
      "source": [
        "import torch\n",
        "import torchvision\n",
        "import matplotlib.pyplot as plt"
      ]
    },
    {
      "cell_type": "code",
      "source": [
        "TENSOR = torch.tensor([[[10,11,12],\n",
        "                        [13,14,15],\n",
        "                        [16,17,18],\n",
        "                         [19,20,21]\n",
        "                        ]])"
      ],
      "metadata": {
        "id": "44nTFwYAE1wG"
      },
      "execution_count": null,
      "outputs": []
    },
    {
      "cell_type": "code",
      "source": [
        "TENSOR.shape"
      ],
      "metadata": {
        "colab": {
          "base_uri": "https://localhost:8080/"
        },
        "id": "4PDICXPiFp-w",
        "outputId": "adb0be9a-9b19-488a-dd1d-6612718e68b9"
      },
      "execution_count": null,
      "outputs": [
        {
          "output_type": "execute_result",
          "data": {
            "text/plain": [
              "torch.Size([1, 4, 3])"
            ]
          },
          "metadata": {},
          "execution_count": 9
        }
      ]
    },
    {
      "cell_type": "code",
      "source": [
        "torch.rand(size=(4,2,3,4))"
      ],
      "metadata": {
        "colab": {
          "base_uri": "https://localhost:8080/"
        },
        "id": "k6-9M3JCYFct",
        "outputId": "28945139-93e5-46d6-9f54-c562f53a0a44"
      },
      "execution_count": null,
      "outputs": [
        {
          "output_type": "execute_result",
          "data": {
            "text/plain": [
              "tensor([[[[0.9339, 0.1966, 0.6324, 0.1119],\n",
              "          [0.8676, 0.8070, 0.7235, 0.9278],\n",
              "          [0.6414, 0.1175, 0.3985, 0.6172]],\n",
              "\n",
              "         [[0.5176, 0.7677, 0.2420, 0.3104],\n",
              "          [0.1870, 0.6932, 0.5192, 0.2819],\n",
              "          [0.7603, 0.0842, 0.0349, 0.3765]]],\n",
              "\n",
              "\n",
              "        [[[0.7052, 0.3040, 0.4418, 0.6782],\n",
              "          [0.8902, 0.7277, 0.6690, 0.7319],\n",
              "          [0.8944, 0.4567, 0.6693, 0.8686]],\n",
              "\n",
              "         [[0.0568, 0.9777, 0.4388, 0.2709],\n",
              "          [0.6548, 0.4537, 0.7010, 0.2383],\n",
              "          [0.7843, 0.0068, 0.1568, 0.0415]]],\n",
              "\n",
              "\n",
              "        [[[0.6778, 0.6909, 0.7405, 0.8042],\n",
              "          [0.2886, 0.4832, 0.8428, 0.0692],\n",
              "          [0.6387, 0.4415, 0.3921, 0.6268]],\n",
              "\n",
              "         [[0.1464, 0.0136, 0.6888, 0.4665],\n",
              "          [0.1520, 0.5041, 0.5954, 0.3523],\n",
              "          [0.8268, 0.6900, 0.2107, 0.6217]]],\n",
              "\n",
              "\n",
              "        [[[0.7493, 0.7863, 0.5361, 0.9957],\n",
              "          [0.6636, 0.1763, 0.3626, 0.2305],\n",
              "          [0.6932, 0.7711, 0.6646, 0.0913]],\n",
              "\n",
              "         [[0.8779, 0.3202, 0.0140, 0.4667],\n",
              "          [0.4179, 0.1482, 0.7167, 0.1044],\n",
              "          [0.4924, 0.7943, 0.5883, 0.8277]]]])"
            ]
          },
          "metadata": {},
          "execution_count": 5
        }
      ]
    },
    {
      "cell_type": "code",
      "source": [
        "import torch\n",
        "\n",
        "rand_img = torch.randn(3, 20, 10)\n",
        "rand_img = rand_img.transpose(0, 2).transpose(0, 1)  # transpose to (256, 256, 3)\n",
        "plt.imshow(rand_img)\n",
        "plt.show()"
      ],
      "metadata": {
        "colab": {
          "base_uri": "https://localhost:8080/",
          "height": 282
        },
        "id": "ddUCswIzhOW3",
        "outputId": "7dde0219-c3a1-4517-bdd9-2df3586447d9"
      },
      "execution_count": null,
      "outputs": [
        {
          "output_type": "stream",
          "name": "stderr",
          "text": [
            "WARNING:matplotlib.image:Clipping input data to the valid range for imshow with RGB data ([0..1] for floats or [0..255] for integers).\n"
          ]
        },
        {
          "output_type": "display_data",
          "data": {
            "text/plain": [
              "<Figure size 432x288 with 1 Axes>"
            ],
            "image/png": "[encoded data removed]"
          },
          "metadata": {
            "needs_background": "light"
          }
        }
      ]
    },
    {
      "cell_type": "code",
      "source": [
        "random_tensor = torch.rand(3,3)\n",
        "random_tensor.to(torch.float16)\n",
        "random_tensor.to(device=\"cuda\")"
      ],
      "metadata": {
        "colab": {
          "base_uri": "https://localhost:8080/"
        },
        "id": "zgRYnOdlHzOY",
        "outputId": "fa57c1d9-3257-4a09-c67b-b4a9529a8e37"
      },
      "execution_count": null,
      "outputs": [
        {
          "output_type": "execute_result",
          "data": {
            "text/plain": [
              "tensor([[0.1337, 0.2000, 0.9162],\n",
              "        [0.7523, 0.9822, 0.8047],\n",
              "        [0.5992, 0.2972, 0.7539]], device='cuda:0')"
            ]
          },
          "metadata": {},
          "execution_count": 28
        }
      ]
    },
    {
      "cell_type": "code",
      "source": [
        "tensor1 = torch.rand(3,4)\n",
        "tensor2 = torch.rand(4,3)"
      ],
      "metadata": {
        "id": "wOUD9Dx3QyAg"
      },
      "execution_count": null,
      "outputs": []
    },
    {
      "cell_type": "code",
      "source": [
        "torch.matmul(tensor1, tensor2)"
      ],
      "metadata": {
        "colab": {
          "base_uri": "https://localhost:8080/"
        },
        "id": "LGYEnQTZQ1jh",
        "outputId": "09dd8484-d578-4650-f144-3ca0aea2ab33"
      },
      "execution_count": null,
      "outputs": [
        {
          "output_type": "execute_result",
          "data": {
            "text/plain": [
              "tensor([[1.2718, 1.4894, 0.9434],\n",
              "        [1.1607, 1.3606, 1.0036],\n",
              "        [0.8790, 1.2310, 1.4761]])"
            ]
          },
          "metadata": {},
          "execution_count": 12
        }
      ]
    },
    {
      "cell_type": "code",
      "source": [
        "tensor1 @ tensor2"
      ],
      "metadata": {
        "colab": {
          "base_uri": "https://localhost:8080/"
        },
        "id": "oYiUpUsiTJa-",
        "outputId": "07ec99bf-34ae-4b7d-fb29-a0d10fcaf854"
      },
      "execution_count": null,
      "outputs": [
        {
          "output_type": "execute_result",
          "data": {
            "text/plain": [
              "tensor([[1.2718, 1.4894, 0.9434],\n",
              "        [1.1607, 1.3606, 1.0036],\n",
              "        [0.8790, 1.2310, 1.4761]])"
            ]
          },
          "metadata": {},
          "execution_count": 14
        }
      ]
    },
    {
      "cell_type": "code",
      "source": [
        "torch.matmul(torch.rand(10, 10), torch.rand(10,10)).shape"
      ],
      "metadata": {
        "colab": {
          "base_uri": "https://localhost:8080/"
        },
        "id": "iSp3-LvZVFG2",
        "outputId": "ff5dbaf9-f08d-4749-bc84-be73cee1d6c5"
      },
      "execution_count": null,
      "outputs": [
        {
          "output_type": "execute_result",
          "data": {
            "text/plain": [
              "torch.Size([10, 10])"
            ]
          },
          "metadata": {},
          "execution_count": 17
        }
      ]
    },
    {
      "cell_type": "code",
      "source": [
        "tensor1 = torch.arange(0, 6).reshape(3, 2)\n",
        "tensor2 = torch.arange(0, 6).reshape(3, 2)\n",
        "\n",
        "print(f\"tensor1 shape: {tensor1.shape}\")\n",
        "print(f\"tensor2 shape: {tensor2.shape}\")\n",
        "print(f\"tensor1 transposed shape: {tensor1.T.shape}\")\n",
        "print(f\"tensor2 transposed shape: {tensor2.T.shape}\")\n",
        "print(\"tensor1 transposed multiplied with tensor2: \\n\")\n",
        "res = tensor1.T @ tensor2\n",
        "print(f\"{res}\\n\")\n",
        "print(f\"shape of the result: {res.shape}\")\n",
        "\n"
      ],
      "metadata": {
        "colab": {
          "base_uri": "https://localhost:8080/"
        },
        "id": "NPmDQugOCmZ0",
        "outputId": "202687dc-1c2d-499c-81ec-099e90ca6a3e"
      },
      "execution_count": null,
      "outputs": [
        {
          "output_type": "stream",
          "name": "stdout",
          "text": [
            "tensor1 shape: torch.Size([3, 2])\n",
            "tensor2 shape: torch.Size([3, 2])\n",
            "tensor1 transposed shape: torch.Size([2, 3])\n",
            "tensor2 transposed shape: torch.Size([2, 3])\n",
            "tensor1 transposed multiplied with tensor2: \n",
            "\n",
            "tensor([[20, 26],\n",
            "        [26, 35]])\n",
            "\n",
            "shape of the result: torch.Size([2, 2])\n"
          ]
        }
      ]
    },
    {
      "cell_type": "code",
      "source": [
        "tensor1.T"
      ],
      "metadata": {
        "colab": {
          "base_uri": "https://localhost:8080/"
        },
        "id": "1kW_Z19dEKe2",
        "outputId": "ddcedab7-de76-4012-e6d1-25ad70a488ab"
      },
      "execution_count": null,
      "outputs": [
        {
          "output_type": "execute_result",
          "data": {
            "text/plain": [
              "tensor([[0, 2, 4],\n",
              "        [1, 3, 5]])"
            ]
          },
          "metadata": {},
          "execution_count": 27
        }
      ]
    },
    {
      "cell_type": "code",
      "source": [
        "tensor2"
      ],
      "metadata": {
        "colab": {
          "base_uri": "https://localhost:8080/"
        },
        "id": "DJ1GRyCrEQFx",
        "outputId": "dddbf83b-1f24-4f1e-9839-fc4e6880c153"
      },
      "execution_count": null,
      "outputs": [
        {
          "output_type": "execute_result",
          "data": {
            "text/plain": [
              "tensor([[0, 1],\n",
              "        [2, 3],\n",
              "        [4, 5]])"
            ]
          },
          "metadata": {},
          "execution_count": 26
        }
      ]
    },
    {
      "cell_type": "code",
      "source": [
        "tensor = torch.arange(0,10)"
      ],
      "metadata": {
        "id": "79fTXQT1RnlZ"
      },
      "execution_count": null,
      "outputs": []
    },
    {
      "cell_type": "code",
      "source": [
        "tensor.argmin()"
      ],
      "metadata": {
        "colab": {
          "base_uri": "https://localhost:8080/"
        },
        "id": "0j-8KJ9CRgK6",
        "outputId": "cd74fdea-43a4-4eab-d119-f4d1e894338f"
      },
      "execution_count": null,
      "outputs": [
        {
          "output_type": "execute_result",
          "data": {
            "text/plain": [
              "tensor(0)"
            ]
          },
          "metadata": {},
          "execution_count": 35
        }
      ]
    },
    {
      "cell_type": "code",
      "source": [
        "import torch"
      ],
      "metadata": {
        "id": "vvSapCfj_2vP"
      },
      "execution_count": null,
      "outputs": []
    },
    {
      "cell_type": "code",
      "source": [
        "tensor = torch.arange(0, 12).reshape(6, 2)"
      ],
      "metadata": {
        "id": "wzSKCU05_4Kx"
      },
      "execution_count": null,
      "outputs": []
    },
    {
      "cell_type": "code",
      "source": [
        "print(tensor)"
      ],
      "metadata": {
        "colab": {
          "base_uri": "https://localhost:8080/"
        },
        "id": "GMShwN4z_6Lu",
        "outputId": "e8b18d3a-efc6-42cd-e9a5-ba0fa3f2b0c3"
      },
      "execution_count": null,
      "outputs": [
        {
          "output_type": "stream",
          "name": "stdout",
          "text": [
            "tensor([[0, 1],\n",
            "        [2, 3],\n",
            "        [4, 5]])\n"
          ]
        }
      ]
    },
    {
      "cell_type": "code",
      "source": [
        "tensor.T"
      ],
      "metadata": {
        "colab": {
          "base_uri": "https://localhost:8080/"
        },
        "id": "_uVW5DAJ__6F",
        "outputId": "882b6efa-e790-4ab7-ecd7-00514151a350"
      },
      "execution_count": null,
      "outputs": [
        {
          "output_type": "execute_result",
          "data": {
            "text/plain": [
              "tensor([[0, 2, 4],\n",
              "        [1, 3, 5]])"
            ]
          },
          "metadata": {},
          "execution_count": 6
        }
      ]
    },
    {
      "cell_type": "code",
      "source": [
        "tensor.T @ tensor"
      ],
      "metadata": {
        "colab": {
          "base_uri": "https://localhost:8080/"
        },
        "id": "2qMe5dtkADwk",
        "outputId": "42d7ba40-cd1f-4473-fd71-a8954c10e234"
      },
      "execution_count": null,
      "outputs": [
        {
          "output_type": "execute_result",
          "data": {
            "text/plain": [
              "tensor([[20, 26],\n",
              "        [26, 35]])"
            ]
          },
          "metadata": {},
          "execution_count": 7
        }
      ]
    },
    {
      "cell_type": "code",
      "source": [
        "tensor = tensor.squeeze()"
      ],
      "metadata": {
        "id": "zPmLSepiAwT8"
      },
      "execution_count": null,
      "outputs": []
    },
    {
      "cell_type": "code",
      "source": [
        "tensor = tensor.reshape(3,4)"
      ],
      "metadata": {
        "id": "dhiyRvnTBLJF"
      },
      "execution_count": null,
      "outputs": []
    },
    {
      "cell_type": "code",
      "source": [
        "print(tensor)"
      ],
      "metadata": {
        "colab": {
          "base_uri": "https://localhost:8080/"
        },
        "id": "kBu8d1obA-D2",
        "outputId": "0b77625e-8bed-458d-c126-97889674ce7c"
      },
      "execution_count": null,
      "outputs": [
        {
          "output_type": "stream",
          "name": "stdout",
          "text": [
            "tensor([[ 0,  1,  2,  3],\n",
            "        [ 4,  5,  6,  7],\n",
            "        [ 8,  9, 10, 11]])\n"
          ]
        }
      ]
    },
    {
      "cell_type": "code",
      "source": [
        "tensor[1, 1:3]"
      ],
      "metadata": {
        "colab": {
          "base_uri": "https://localhost:8080/"
        },
        "id": "UoEojZdAAI7A",
        "outputId": "8c19a52b-87ea-49a5-f05c-c1c7afbf5fdf"
      },
      "execution_count": null,
      "outputs": [
        {
          "output_type": "execute_result",
          "data": {
            "text/plain": [
              "tensor([5, 6])"
            ]
          },
          "metadata": {},
          "execution_count": 50
        }
      ]
    },
    {
      "cell_type": "code",
      "source": [
        "tensor[:, :]"
      ],
      "metadata": {
        "colab": {
          "base_uri": "https://localhost:8080/"
        },
        "id": "BpklqzU-DqDe",
        "outputId": "2ec128d4-f275-418f-b782-eb83a9f23ffd"
      },
      "execution_count": null,
      "outputs": [
        {
          "output_type": "execute_result",
          "data": {
            "text/plain": [
              "tensor([[ 0,  1,  2,  3],\n",
              "        [ 4,  5,  6,  7],\n",
              "        [ 8,  9, 10, 11]])"
            ]
          },
          "metadata": {},
          "execution_count": 54
        }
      ]
    },
    {
      "cell_type": "code",
      "source": [
        "tensor"
      ],
      "metadata": {
        "colab": {
          "base_uri": "https://localhost:8080/"
        },
        "id": "OsAAFK6ZAs2w",
        "outputId": "452c97aa-c7a3-44e3-b4f8-f84f8d3ec953"
      },
      "execution_count": null,
      "outputs": [
        {
          "output_type": "execute_result",
          "data": {
            "text/plain": [
              "tensor([[ 0,  1],\n",
              "        [ 2,  3],\n",
              "        [ 4,  5],\n",
              "        [ 6,  7],\n",
              "        [ 8,  9],\n",
              "        [10, 11]])"
            ]
          },
          "metadata": {},
          "execution_count": 20
        }
      ]
    },
    {
      "cell_type": "code",
      "source": [
        "tensor2 = torch.Tensor([[[0,1,2,3],[4,5,6,7],[8,9,10,11]], [[12,13,14,15],[16,17,18,19],[20,21,22,23]]])"
      ],
      "metadata": {
        "id": "KCYW0PjJEUsG"
      },
      "execution_count": null,
      "outputs": []
    },
    {
      "cell_type": "code",
      "source": [
        "tensor2.shape"
      ],
      "metadata": {
        "colab": {
          "base_uri": "https://localhost:8080/"
        },
        "id": "alqXO2DfEl38",
        "outputId": "7494bdf1-5154-4525-a9cf-f0dc5d4b0310"
      },
      "execution_count": null,
      "outputs": [
        {
          "output_type": "execute_result",
          "data": {
            "text/plain": [
              "torch.Size([2, 3, 4])"
            ]
          },
          "metadata": {},
          "execution_count": 77
        }
      ]
    },
    {
      "cell_type": "code",
      "source": [
        "print(tensor2)"
      ],
      "metadata": {
        "colab": {
          "base_uri": "https://localhost:8080/"
        },
        "id": "3NnSg6y1FTDu",
        "outputId": "56857f07-6736-4e60-967c-cdafbbf3e83b"
      },
      "execution_count": null,
      "outputs": [
        {
          "output_type": "stream",
          "name": "stdout",
          "text": [
            "tensor([[[ 0.,  1.,  2.,  3.],\n",
            "         [ 4.,  5.,  6.,  7.],\n",
            "         [ 8.,  9., 10., 11.]],\n",
            "\n",
            "        [[12., 13., 14., 15.],\n",
            "         [16., 17., 18., 19.],\n",
            "         [20., 21., 22., 23.]]])\n"
          ]
        }
      ]
    },
    {
      "cell_type": "code",
      "source": [
        "tensor2[1, :, 3][2]"
      ],
      "metadata": {
        "colab": {
          "base_uri": "https://localhost:8080/"
        },
        "id": "UqUTCcD_FWqC",
        "outputId": "36adbe14-f67d-4e54-9f89-b1fd1bb5f8c3"
      },
      "execution_count": null,
      "outputs": [
        {
          "output_type": "execute_result",
          "data": {
            "text/plain": [
              "tensor(23.)"
            ]
          },
          "metadata": {},
          "execution_count": 83
        }
      ]
    },
    {
      "cell_type": "code",
      "source": [
        "tensor2[0,0,2]"
      ],
      "metadata": {
        "colab": {
          "base_uri": "https://localhost:8080/"
        },
        "id": "qYc8U0WCK7CN",
        "outputId": "e67801c7-b9c5-44f2-a20b-9ff6beb1fb16"
      },
      "execution_count": null,
      "outputs": [
        {
          "output_type": "execute_result",
          "data": {
            "text/plain": [
              "tensor(2.)"
            ]
          },
          "metadata": {},
          "execution_count": 89
        }
      ]
    },
    {
      "cell_type": "code",
      "source": [
        "tensor3 = torch.arange(1,10).reshape(3,3)"
      ],
      "metadata": {
        "id": "wAivBzisLkli"
      },
      "execution_count": null,
      "outputs": []
    },
    {
      "cell_type": "code",
      "source": [
        "tensor3"
      ],
      "metadata": {
        "colab": {
          "base_uri": "https://localhost:8080/"
        },
        "id": "vpVEecm9LyNX",
        "outputId": "35147dbd-d9df-4d59-faf4-ffa69e56aff0"
      },
      "execution_count": null,
      "outputs": [
        {
          "output_type": "execute_result",
          "data": {
            "text/plain": [
              "tensor([[1, 2, 3],\n",
              "        [4, 5, 6],\n",
              "        [7, 8, 9]])"
            ]
          },
          "metadata": {},
          "execution_count": 93
        }
      ]
    },
    {
      "cell_type": "code",
      "source": [
        "tensor3[:,2]"
      ],
      "metadata": {
        "colab": {
          "base_uri": "https://localhost:8080/"
        },
        "id": "aMYFJbVZL72p",
        "outputId": "9e311286-676e-47ce-a652-17ca499b2d06"
      },
      "execution_count": null,
      "outputs": [
        {
          "output_type": "execute_result",
          "data": {
            "text/plain": [
              "tensor([3, 6, 9])"
            ]
          },
          "metadata": {},
          "execution_count": 101
        }
      ]
    }
  ]
}